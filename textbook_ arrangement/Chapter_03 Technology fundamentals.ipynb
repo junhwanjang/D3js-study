{
 "cells": [
  {
   "cell_type": "markdown",
   "metadata": {},
   "source": [
    "# Chapter 3 Technology Fundamentals"
   ]
  },
  {
   "cell_type": "markdown",
   "metadata": {},
   "source": [
    "## 1) The Web\n",
    "\n",
    "                response\n",
    "    웹서버 -----------------------> 웹클라이언트\n",
    "         <-----------------------\n",
    "                request\n",
    "                \n",
    "## 2) HTML\n",
    "\n",
    "- HTML(Hypertext Markup Language)\n",
    "    - \"콘텐츠를 구조화하는데에 사용\" => Markup ; Dom에 문서요소를 생성하기 위해 태그를 추가하는 과정\n",
    "    - 속성(attribute) 지정\n",
    "    ex) <a href = \"http://www.naver.com\" > Naver </a>\n",
    "    \n",
    "## 3) DOM\n",
    "\n",
    "- DOM(Document Object Model)\n",
    "    - HTML의 계층적 구조를 나타냄. 즉, 문서요소의 상대적인 관계를 나타낸다.\n",
    "    \n",
    "## 4) 개발자도구\n",
    "\n",
    "- 개발자도구\n",
    "    - 90년대 후반에는 개발자도구가 지원되지 않아 디버깅에 애를 먹었다.\n",
    "    \n",
    "## 5) 렌더링과 박스모델\n",
    "\n",
    "- 렌더링 ; 브라우저가 html을 파싱 ==> Dom 생성 ==> 시각화\n",
    "- 박스모델 ; 브라우저가 렌더링할때, 모든요소를 사각형으로 인식함 ==> 그래서 박스모델이라 지칭\n",
    "    - 블록모델(block-level) <ex> div, h1~h6, p\n",
    "        : Starts on a new line and takes up the full width available\n",
    "        \n",
    "    - 인라인(inline) <ex> span, a, img\n",
    "        : Does not starts on a new line and only takes up as much available"
   ]
  },
  {
   "cell_type": "code",
   "execution_count": null,
   "metadata": {
    "collapsed": true
   },
   "outputs": [],
   "source": []
  }
 ],
 "metadata": {
  "kernelspec": {
   "display_name": "Python 3",
   "language": "python",
   "name": "python3"
  },
  "language_info": {
   "codemirror_mode": {
    "name": "ipython",
    "version": 3
   },
   "file_extension": ".py",
   "mimetype": "text/x-python",
   "name": "python",
   "nbconvert_exporter": "python",
   "pygments_lexer": "ipython3",
   "version": "3.5.1+"
  }
 },
 "nbformat": 4,
 "nbformat_minor": 0
}
